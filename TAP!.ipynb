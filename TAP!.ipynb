{
  "nbformat": 4,
  "nbformat_minor": 0,
  "metadata": {
    "colab": {
      "name": "TAP!.ipynb",
      "provenance": [],
      "collapsed_sections": []
    },
    "kernelspec": {
      "name": "python3",
      "display_name": "Python 3"
    },
    "language_info": {
      "name": "python"
    }
  },
  "cells": [
    {
      "cell_type": "markdown",
      "source": [
        "# TAP! 🐱‍👓        by remuechat\n",
        "---\n",
        "\n",
        "TAP! Or \"Tic-tac-toe Array Practice\" is a python console game of tic tac toe. Will integrate ML and advanced algorithms later. I made this project to practice array manipulation and basic neural networks. Run the first cell of code to run the game! Good luck! 🎉 [HOURS SPENT:11]"
      ],
      "metadata": {
        "id": "HCLAUyqcA2wU"
      }
    },
    {
      "cell_type": "code",
      "source": [
        "#%%timeit or %time it, and time\n",
        "!pip install emoji\n",
        "import pickle; import time; import emoji"
      ],
      "metadata": {
        "id": "1EdatZE04SMf",
        "colab": {
          "base_uri": "https://localhost:8080/"
        },
        "outputId": "b535f5cd-6ea2-400e-9473-d6642770bacb"
      },
      "execution_count": null,
      "outputs": [
        {
          "output_type": "stream",
          "name": "stdout",
          "text": [
            "Looking in indexes: https://pypi.org/simple, https://us-python.pkg.dev/colab-wheels/public/simple/\n",
            "Collecting emoji\n",
            "  Downloading emoji-2.0.0.tar.gz (197 kB)\n",
            "\u001b[K     |████████████████████████████████| 197 kB 7.5 MB/s \n",
            "\u001b[?25hBuilding wheels for collected packages: emoji\n",
            "  Building wheel for emoji (setup.py) ... \u001b[?25l\u001b[?25hdone\n",
            "  Created wheel for emoji: filename=emoji-2.0.0-py3-none-any.whl size=193022 sha256=328d8bf327e81e9fe0701075bdb81b437722c879f951be5da46784926d901d5f\n",
            "  Stored in directory: /root/.cache/pip/wheels/ec/29/4d/3cfe7452ac7d8d83b1930f8a6205c3c9649b24e80f9029fc38\n",
            "Successfully built emoji\n",
            "Installing collected packages: emoji\n",
            "Successfully installed emoji-2.0.0\n"
          ]
        }
      ]
    },
    {
      "cell_type": "code",
      "source": [
        "defaultBoard = [0,0,0,0,0,0,0,0,0]\n",
        "p1, p2 = '','' \n",
        "convertedBoard = []\n",
        "winText = ' '\n",
        "\n",
        "def main():\n",
        "    print(\"\\nLet's start playing tic-tac-toe!  \\n\")\n",
        "    askVariation()\n",
        "    global pboard; pboard = defaultBoard\n",
        "    \n",
        "    win = False\n",
        "    while win == False:\n",
        "      display()\n",
        "      p1 = str(input('PLAYER 1 move: '))\n",
        "      if p1 == 'A1':\n",
        "        pboard.pop(0)\n",
        "        pboard.insert(0,1)\n",
        "      elif p1 == 'A2':\n",
        "        pboard.pop(1)\n",
        "        pboard.insert(1,1)\n",
        "      elif p1 == 'A3':\n",
        "        pboard.pop(2)\n",
        "        pboard.insert(2,1)\n",
        "      elif p1 == 'B1':\n",
        "        pboard.pop(3)\n",
        "        pboard.insert(3,1)\n",
        "      elif p1 == 'B2':\n",
        "        pboard.pop(4)\n",
        "        pboard.insert(4,1)\n",
        "      elif p1 == 'B3':\n",
        "        pboard.pop(5)\n",
        "        pboard.insert(5,1)\n",
        "      elif p1 == 'C1':\n",
        "        pboard.pop(6)\n",
        "        pboard.insert(6,1)\n",
        "      elif p1 == 'C2':\n",
        "        pboard.pop(7)\n",
        "        pboard.insert(7,1)\n",
        "      elif p1 == 'C3':\n",
        "        pboard.pop(8)\n",
        "        pboard.insert(8,1)\n",
        "      display()\n",
        "      p2 = str(input('PLAYER 2 move: '))\n",
        "      if p2 == 'A1':\n",
        "        pboard.pop(0)\n",
        "        pboard.insert(0,2)\n",
        "      elif p2 == 'A2':\n",
        "        pboard.pop(1)\n",
        "        pboard.insert(1,2)\n",
        "      elif p2 == 'A3':\n",
        "        pboard.pop(2)\n",
        "        pboard.insert(2,2)\n",
        "      elif p2 == 'B1':\n",
        "        pboard.pop(3)\n",
        "        pboard.insert(3,2)\n",
        "      elif p2 == 'B2':\n",
        "        pboard.pop(4)\n",
        "        pboard.insert(4,2)\n",
        "      elif p2 == 'B3':\n",
        "        pboard.pop(5)\n",
        "        pboard.insert(5,2)\n",
        "      elif p2 == 'C1':\n",
        "        pboard.pop(6)\n",
        "        pboard.insert(6,2)\n",
        "      elif p2 == 'C2':\n",
        "        pboard.pop(7)\n",
        "        pboard.insert(7,2)\n",
        "      elif p2 == 'C3':\n",
        "        pboard.pop(8)\n",
        "        pboard.insert(8,2)\n",
        "        #store the moves in a json file later, probably the time also in pushMove()\n",
        "      if (pboard[0] == 1 and pboard[1] == 1 and pboard[2] == 1) or (pboard[3] == 1 and pboard[4] == 1 and pboard[5] == 1) or (pboard[6] == 1 and pboard[7] == 1 and pboard[8] == 1) or (pboard[0] == 1 and pboard[4] == 1 and pboard[8] == 1) or (pboard[2] == 1 and pboard[4] == 1 and pboard[6] == 1):\n",
        "        win = True\n",
        "        winText = 'Player 1 Wins!'\n",
        "      elif (pboard[0] == 2 and pboard[1] == 2 and pboard[2] == 2) or (pboard[3] == 2 and pboard[4] == 2 and pboard[5] == 2) or (pboard[6] == 2 and pboard[7] == 2 and pboard[8] == 2) or (pboard[0] == 2 and pboard[4] == 2 and pboard[8] == 2) or (pboard[2] == 2 and pboard[4] == 2 and pboard[6] == 2): \n",
        "        win = True\n",
        "        winText = 'Player 2 Wins!'\n",
        "      else:\n",
        "        win = False\n",
        "    print(winText)\n",
        "    display()\n",
        "\n",
        "def askVariation():\n",
        "  print('VARIATIONS: \\n')\n",
        "  print('AI             Play 3x3 board with AI')\n",
        "  print('DF             Standard game, 2 players, 3 x 3 board')\n",
        "  global size; size = str(input('GAME: '))\n",
        "  print('To move, enter the texts to move: ')\n",
        "  print('   A1        A2        A3')\n",
        "  print('   B1        B2        B3')\n",
        "  print('   C1        C2        C3')\n",
        "\n",
        "def display():\n",
        "  convertedBoard.clear()\n",
        "  for i in range(len(pboard)):\n",
        "    if pboard[i] == 0:\n",
        "      convertedBoard.append('⬛')\n",
        "    elif pboard[i] == 1:\n",
        "      convertedBoard.append('⭕')\n",
        "    elif pboard[i] == 2:\n",
        "      convertedBoard.append('❌')\n",
        "  print()\n",
        "  print(        convertedBoard[0], convertedBoard[1], convertedBoard[2]) \n",
        "  print(        convertedBoard[3], convertedBoard[4], convertedBoard[5])\n",
        "  print(        convertedBoard[6], convertedBoard[7], convertedBoard[8])\n",
        "\n",
        "#add the move recorder in the bottom cell"
      ],
      "metadata": {
        "id": "N_HL56quCis0"
      },
      "execution_count": 94,
      "outputs": []
    },
    {
      "cell_type": "code",
      "execution_count": 95,
      "metadata": {
        "colab": {
          "base_uri": "https://localhost:8080/"
        },
        "id": "sye4oho1AoBR",
        "outputId": "0b404ab8-2b14-42fe-9f6a-4384ddd3bc84"
      },
      "outputs": [
        {
          "output_type": "stream",
          "name": "stdout",
          "text": [
            "\n",
            "Let's start playing tic-tac-toe!  \n",
            "\n",
            "VARIATIONS: \n",
            "\n",
            "AI             Play 3x3 board with AI\n",
            "DF             Standard game, 2 players, 3 x 3 board\n",
            "GAME: DF\n",
            "To move, enter the texts to move: \n",
            "   A1        A2        A3\n",
            "   B1        B2        B3\n",
            "   C1        C2        C3\n",
            "\n",
            "⬛ ⬛ ⬛\n",
            "⬛ ⬛ ⬛\n",
            "⬛ ⬛ ⬛\n",
            "PLAYER 1 move: A1\n",
            "\n",
            "⭕ ⬛ ⬛\n",
            "⬛ ⬛ ⬛\n",
            "⬛ ⬛ ⬛\n",
            "PLAYER 2 move: B1\n",
            "\n",
            "⭕ ⬛ ⬛\n",
            "❌ ⬛ ⬛\n",
            "⬛ ⬛ ⬛\n",
            "PLAYER 1 move: B2\n",
            "\n",
            "⭕ ⬛ ⬛\n",
            "❌ ⭕ ⬛\n",
            "⬛ ⬛ ⬛\n",
            "PLAYER 2 move: B3\n",
            "\n",
            "⭕ ⬛ ⬛\n",
            "❌ ⭕ ❌\n",
            "⬛ ⬛ ⬛\n",
            "PLAYER 1 move: C3\n",
            "\n",
            "⭕ ⬛ ⬛\n",
            "❌ ⭕ ❌\n",
            "⬛ ⬛ ⭕\n",
            "PLAYER 2 move: C1\n",
            "Player 1 Wins!\n",
            "\n",
            "⭕ ⬛ ⬛\n",
            "❌ ⭕ ❌\n",
            "❌ ⬛ ⭕\n"
          ]
        }
      ],
      "source": [
        "main()"
      ]
    },
    {
      "cell_type": "code",
      "source": [
        "#MACHINE LEARNING"
      ],
      "metadata": {
        "id": "WsW3-WrCFCoj"
      },
      "execution_count": null,
      "outputs": []
    },
    {
      "cell_type": "code",
      "source": [
        "#RECORD GAMEPLAY"
      ],
      "metadata": {
        "id": "onbIFDwXK4Na"
      },
      "execution_count": null,
      "outputs": []
    }
  ]
}